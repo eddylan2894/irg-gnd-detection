{
 "cells": [
  {
   "cell_type": "code",
   "execution_count": 1,
   "metadata": {},
   "outputs": [],
   "source": [
    "import pyrealsense2 as rs\n",
    "import numpy as np\n",
    "import cv2\n",
    "import pcl\n",
    "from IPython.display import display\n",
    "from PIL import Image "
   ]
  },
  {
   "cell_type": "markdown",
   "metadata": {},
   "source": [
    "Read frames and calculate point cloud using pyrealsense2 lib."
   ]
  },
  {
   "cell_type": "code",
   "execution_count": 2,
   "metadata": {},
   "outputs": [],
   "source": [
    "# Declare pointcloud object, for calculating pointclouds and texture mappings\n",
    "pc = rs.pointcloud()\n",
    "# We want the points object to be persistent so we can display the last cloud when a frame drops\n",
    "points = rs.points()\n",
    "pipe = rs.pipeline()\n",
    "cfg = rs.config()\n",
    "rs.config.enable_device_from_file(cfg, './20191211_160154.bag', repeat_playback = False)\n",
    "cfg.enable_stream(rs.stream.color, 424, 240, rs.format.rgb8, 6) # color camera\n",
    "cfg.enable_stream(rs.stream.depth, 424, 240, rs.format.z16, 6) # depth camera\n",
    "# pipe.start(cfg)\n",
    "profile = pipe.start(cfg)\n",
    "playback = profile.get_device().as_playback()\n",
    "playback.set_real_time(False)"
   ]
  },
  {
   "cell_type": "code",
   "execution_count": 3,
   "metadata": {},
   "outputs": [],
   "source": [
    "frames = pipe.wait_for_frames()\n",
    "depth_frame = frames.get_depth_frame()\n",
    "color_frame = frames.get_color_frame()"
   ]
  },
  {
   "cell_type": "code",
   "execution_count": 6,
   "metadata": {},
   "outputs": [
    {
     "data": {
      "image/png": "[encoded data removed]",
      "text/plain": [
       "<PIL.Image.Image image mode=RGB size=424x240 at 0x7F2835EA90>"
      ]
     },
     "metadata": {},
     "output_type": "display_data"
    },
    {
     "data": {
      "text/plain": [
       "True"
      ]
     },
     "execution_count": 6,
     "metadata": {},
     "output_type": "execute_result"
    }
   ],
   "source": [
    "depth_image = np.asanyarray(depth_frame.get_data())\n",
    "color_image = np.asanyarray(color_frame.get_data())\n",
    "depth_colormap = cv2.applyColorMap(cv2.convertScaleAbs(depth_image, alpha=0.03), cv2.COLORMAP_JET)\n",
    "display(Image.fromarray(depth_colormap))\n",
    "cv2.imwrite(\"depth_orig.png\", depth_colormap)"
   ]
  },
  {
   "cell_type": "code",
   "execution_count": 7,
   "metadata": {},
   "outputs": [],
   "source": [
    "# dec_filter = rs.decimation_filter()\n",
    "thres_filter = rs.threshold_filter()\n",
    "depth_to_disparity = rs.disparity_transform(True)\n",
    "spat_filter = rs.spatial_filter()\n",
    "temp_filter = rs.temporal_filter()\n",
    "# hole_fill_filter = rs.hole_filling_filter(mode=2)\n",
    "disparity_to_depth = rs.disparity_transform(False)"
   ]
  },
  {
   "cell_type": "code",
   "execution_count": 8,
   "metadata": {},
   "outputs": [
    {
     "data": {
      "image/png": "[encoded data removed]",
      "text/plain": [
       "<PIL.Image.Image image mode=RGB size=424x240 at 0x7F283707F0>"
      ]
     },
     "metadata": {},
     "output_type": "display_data"
    },
    {
     "data": {
      "text/plain": [
       "True"
      ]
     },
     "execution_count": 8,
     "metadata": {},
     "output_type": "execute_result"
    }
   ],
   "source": [
    "from PIL import Image \n",
    "from IPython.display import display, clear_output\n",
    "# from cStringIO import StringIO\n",
    "\n",
    "def showarray(a, fmt='jpeg'):\n",
    "    a = np.uint8(np.clip(a, 0, 255))\n",
    "# print(depth_image)\n",
    "\n",
    "if True:\n",
    "    depth_frame = thres_filter.process(depth_frame)\n",
    "    depth_frame = depth_to_disparity.process(depth_frame)\n",
    "    depth_frame = spat_filter.process(depth_frame)\n",
    "    depth_frame = temp_filter.process(depth_frame)\n",
    "#     depth_frame = hole_fill_filter.process(depth_frame)\n",
    "    depth_frame = disparity_to_depth.process(depth_frame)\n",
    "    \n",
    "depth_image = np.asanyarray(depth_frame.get_data())\n",
    "color_image = np.asanyarray(color_frame.get_data())\n",
    "depth_colormap = cv2.applyColorMap(cv2.convertScaleAbs(depth_image, alpha=0.03), cv2.COLORMAP_JET)\n",
    "display(Image.fromarray(depth_colormap))\n",
    "cv2.imwrite(\"depth_rs_processed.png\", depth_colormap)\n",
    "# frames = pipe.wait_for_frames()\n",
    "# depth_frame = frames.get_depth_frame()"
   ]
  },
  {
   "cell_type": "code",
   "execution_count": 9,
   "metadata": {},
   "outputs": [],
   "source": [
    "points = pc.calculate(depth_frame)"
   ]
  },
  {
   "cell_type": "code",
   "execution_count": 10,
   "metadata": {},
   "outputs": [],
   "source": [
    "def points_to_pcl(points): \n",
    "    cloud = pcl.PointCloud()\n",
    "    vtx = np.asanyarray(points.get_vertices())\n",
    "    point_array = np.zeros((len(vtx), 3), np.float32)\n",
    "    \n",
    "    for i in range(len(vtx)):\n",
    "        point_array[i][0] = np.float32(vtx[i][0])\n",
    "        point_array[i][1] = np.float32(vtx[i][1])\n",
    "        point_array[i][2] = np.float32(vtx[i][2])\n",
    "    if False:\n",
    "        point_array = point_array.reshape(240, 424,3)\n",
    "        cloud.from_3d_array(point_array)\n",
    "    else:\n",
    "        cloud.from_array(point_array)\n",
    "    print(cloud.height, cloud.width)\n",
    "    return cloud"
   ]
  },
  {
   "cell_type": "code",
   "execution_count": 11,
   "metadata": {},
   "outputs": [
    {
     "name": "stdout",
     "output_type": "stream",
     "text": [
      "1 101760\n"
     ]
    }
   ],
   "source": [
    "cloud = points_to_pcl(points)"
   ]
  },
  {
   "cell_type": "code",
   "execution_count": 148,
   "metadata": {},
   "outputs": [],
   "source": [
    "# M_PI = 3.141592\n",
    "# def region_growing_segmentation(cloud, organized=False):\n",
    "#     if not organized:\n",
    "#         print(\"Making Kd Tree\")\n",
    "#         tree = cloud.make_kdtree()\n",
    "   \n",
    "#     ne = cloud.make_NormalEstimation()\n",
    "#     if not organized:\n",
    "#         ne.set_SearchMethod(tree)\n",
    "#     ne.set_RadiusSearch(0.05)\n",
    "#     print(\"Computing normals\")\n",
    "#     # normals\n",
    "#     cloud_normals = ne.compute()\n",
    "\n",
    "#     print(\"Applying RegionGrowing\")\n",
    "#     reg = cloud.make_RegionGrowing(ksearch=5)\n",
    "#     reg.set_MinClusterSize(1000)\n",
    "#     reg.set_MaxClusterSize(1000000)\n",
    "#     reg.set_NumberOfNeighbours(5)\n",
    "#     reg.set_SmoothnessThreshold(5.0 / 180.0 * M_PI)\n",
    "#     reg.set_CurvatureThreshold(2.0)\n",
    "#     reg.set_InputNormals(cloud_normals)\n",
    "#     print(\"Extracting\")\n",
    "#     cluster_indices = reg.Extract()\n",
    "    \n",
    "# #     for i, c in enumerate(cluster_indices):\n",
    "# #         print(str(i) + \"th cluster size: \" + str(len(c)))\n",
    "# #     longest_list = max(cluster_indices, key= lambda i: len(i))\n",
    "# #     print(\"largest cluster len: \" ,len(longest_list))\n",
    "#     return cluster_indices"
   ]
  },
  {
   "cell_type": "code",
   "execution_count": 149,
   "metadata": {},
   "outputs": [
    {
     "name": "stdout",
     "output_type": "stream",
     "text": [
      "Making Kd Tree\n",
      "Computing normals\n",
      "Applying RegionGrowing\n",
      "Extracting\n"
     ]
    }
   ],
   "source": [
    "# cluster_indices = region_growing_segmentation(cloud)"
   ]
  },
  {
   "cell_type": "code",
   "execution_count": 12,
   "metadata": {},
   "outputs": [],
   "source": [
    "def mark_pixels(image, width, indices):\n",
    "    # mark pixels of the indices to white (255, 255, 255)\n",
    "    MARK_COLOR = np.array([255, 255, 255])\n",
    "    res_image = image.copy()\n",
    "    for idx in indices:\n",
    "        i = idx % width\n",
    "        j = idx // width\n",
    "        res_image[j, i] = MARK_COLOR\n",
    "    return res_image"
   ]
  },
  {
   "cell_type": "code",
   "execution_count": 153,
   "metadata": {},
   "outputs": [
    {
     "data": {
      "image/png": "[encoded data removed]",
      "text/plain": [
       "<PIL.Image.Image image mode=RGB size=424x240 at 0x7F380A57F0>"
      ]
     },
     "metadata": {},
     "output_type": "display_data"
    }
   ],
   "source": [
    "# for indices in cluster_indices:\n",
    "#     print(len(indices))\n",
    "# processed = mark_pixels(depth_colormap, 424, cluster_indices[1])\n",
    "# display(Image.fromarray(processed))"
   ]
  },
  {
   "cell_type": "code",
   "execution_count": 14,
   "metadata": {},
   "outputs": [
    {
     "name": "stdout",
     "output_type": "stream",
     "text": [
      "Making Kd Tree\n",
      "Computing normals\n",
      "Applying RegionGrowing\n",
      "Extracting\n"
     ]
    }
   ],
   "source": [
    "M_PI = 3.141592\n",
    "print(\"Making Kd Tree\")\n",
    "tree = cloud.make_kdtree()\n",
    "\n",
    "ne = cloud.make_NormalEstimation()\n",
    "ne.set_SearchMethod(tree)\n",
    "ne.set_RadiusSearch(0.05)\n",
    "print(\"Computing normals\")\n",
    "# normals\n",
    "cloud_normals = ne.compute()\n",
    "\n",
    "print(\"Applying RegionGrowing\")\n",
    "reg = cloud.make_RegionGrowing(ksearch=5)\n",
    "reg.set_MinClusterSize(1000)\n",
    "reg.set_MaxClusterSize(1000000)\n",
    "reg.set_NumberOfNeighbours(5)\n",
    "reg.set_SmoothnessThreshold(5.0 / 180.0 * M_PI)\n",
    "reg.set_CurvatureThreshold(2.0)\n",
    "reg.set_InputNormals(cloud_normals)\n",
    "print(\"Extracting\")\n",
    "cluster_indices = reg.Extract()"
   ]
  },
  {
   "cell_type": "code",
   "execution_count": 15,
   "metadata": {},
   "outputs": [],
   "source": [
    "# np.random.choice(cluster_indices[1], 1)\n",
    "# cloud_normals[2]\n",
    "# cloud_normals[]\n",
    "# np.mean(np.take(np.asarray(cloud_normals), [58473]))\n",
    "def compute_mean_normal(indices, cloud_normals, count):\n",
    "    # compute the mean normals by randomly choosing points and compute the mean\n",
    "    s = np.zeros(4)\n",
    "    for i in np.random.choice(indices, count):\n",
    "        s += cloud_normals[i]\n",
    "    return s / count"
   ]
  },
  {
   "cell_type": "code",
   "execution_count": 16,
   "metadata": {},
   "outputs": [],
   "source": [
    "def choose_flat_plane(cluster_indices, cloud_normals, threshold=0.95, num_points=200):\n",
    "    # choose the plane that has a normal whose value is larger than the threshold\n",
    "    idx = -1\n",
    "    mean_normals = []\n",
    "    for i, indices in enumerate(cluster_indices):\n",
    "        mn = compute_mean_normal(indices, cloud_normals, num_points)\n",
    "        if abs(mn[1]) > threshold:\n",
    "            idx = i\n",
    "            break\n",
    "        mean_normals.append(mn)\n",
    "    if idx == -1:\n",
    "        print(\"no ground found\")\n",
    "        arr = np.asarray(mean_normals)\n",
    "        print(arr)\n",
    "        y_values = np.abs(arr[:, 1].squeeze())\n",
    "        idx = np.argmax(y_values)\n",
    "#         idx = mean_normals.index(max(mean_normals, key= lambda x: abs(x[1])))\n",
    "    return idx"
   ]
  },
  {
   "cell_type": "code",
   "execution_count": 17,
   "metadata": {},
   "outputs": [
    {
     "name": "stdout",
     "output_type": "stream",
     "text": [
      "3\n"
     ]
    }
   ],
   "source": [
    "idx = choose_flat_plane(cluster_indices, cloud_normals)\n",
    "print(idx)\n",
    "chosen_plane = cluster_indices[idx]"
   ]
  },
  {
   "cell_type": "code",
   "execution_count": 18,
   "metadata": {},
   "outputs": [
    {
     "data": {
      "text/plain": [
       "array([[-0.20232425],\n",
       "       [-8.45529007],\n",
       "       [ 1.24028055]])"
      ]
     },
     "execution_count": 18,
     "metadata": {},
     "output_type": "execute_result"
    }
   ],
   "source": [
    "# https://math.stackexchange.com/questions/99299/best-fitting-plane-given-a-set-of-points\n",
    "# def fit_plane(points):\n",
    "# Compute the plane equation with the points\n",
    "arr = cloud.to_array()\n",
    "plane_points = arr[chosen_plane]\n",
    "A = plane_points[:, :2]\n",
    "# https://data100.datahub.berkeley.edu/user/yclan2/notebooks/fa19/hw/hw7/hw7.ipynb\n",
    "A = np.hstack([A, np.ones([len(A), 1])])\n",
    "# A.shape\n",
    "b = plane_points[:, 2].reshape(-1, 1)\n",
    "fit = np.linalg.inv(A.T @ A) @ A.T @ b\n",
    "fit"
   ]
  },
  {
   "cell_type": "code",
   "execution_count": 19,
   "metadata": {},
   "outputs": [],
   "source": [
    "fit = np.squeeze(fit)\n",
    "plane_coef = np.insert(fit, 2, -1)"
   ]
  },
  {
   "cell_type": "code",
   "execution_count": 20,
   "metadata": {},
   "outputs": [],
   "source": [
    "# Include points that are close to the plane\n",
    "# https://www.geeksforgeeks.org/distance-between-a-point-and-a-plane-in-3-d/\n",
    "import math\n",
    "\n",
    "def shortest_distance(point, plane_coef):\n",
    "    # point: (x, y, z), plane:ax+by+cz+d=0\n",
    "    x1, y1, z1 = point\n",
    "    a, b, c, d = plane_coef\n",
    "    d = abs((a * x1 + b * y1 + c * z1 + d))\n",
    "    e = math.sqrt(a * a + b * b + c * c)\n",
    "    return d / e\n",
    "def find_close_points(cloud, plane_coef, threshold=0.02):\n",
    "    indices = []\n",
    "    for i, point in enumerate(cloud):\n",
    "        distance = shortest_distance(point, plane_coef)\n",
    "        if distance < threshold:\n",
    "            indices.append(i)\n",
    "    return indices\n",
    "plane_filtered_indices = find_close_points(cloud, plane_coef)"
   ]
  },
  {
   "cell_type": "code",
   "execution_count": 21,
   "metadata": {},
   "outputs": [
    {
     "data": {
      "image/png": "[encoded data removed]",
      "text/plain": [
       "<PIL.Image.Image image mode=RGB size=424x240 at 0x7F2BE30978>"
      ]
     },
     "metadata": {},
     "output_type": "display_data"
    },
    {
     "data": {
      "text/plain": [
       "True"
      ]
     },
     "execution_count": 21,
     "metadata": {},
     "output_type": "execute_result"
    }
   ],
   "source": [
    "processed = mark_pixels(depth_colormap, 424, plane_filtered_indices)\n",
    "display(Image.fromarray(processed))\n",
    "cv2.imwrite(\"proc_before_dilate.png\", processed)"
   ]
  },
  {
   "cell_type": "code",
   "execution_count": 180,
   "metadata": {},
   "outputs": [
    {
     "name": "stdout",
     "output_type": "stream",
     "text": [
      "101053\n"
     ]
    }
   ],
   "source": [
    "# print(len(plane_filtered_indices))\n",
    "# print(plane_filtered_indices[-1])"
   ]
  },
  {
   "cell_type": "code",
   "execution_count": 22,
   "metadata": {},
   "outputs": [],
   "source": [
    "# Apply image processing on the depth image\n",
    "img = processed.copy()\n",
    "kernel = np.ones((30, 30), np.uint8) \n",
    "  \n",
    "# The first parameter is the original image, \n",
    "# kernel is the matrix with which image is  \n",
    "# convolved and third parameter is the number  \n",
    "# of iterations, which will determine how much  \n",
    "# you want to erode/dilate a given image.  \n",
    "img_dilation = cv2.dilate(img, kernel, iterations=3) \n",
    "img_processed = cv2.erode(img_dilation, kernel, iterations=3) \n"
   ]
  },
  {
   "cell_type": "code",
   "execution_count": 23,
   "metadata": {},
   "outputs": [
    {
     "data": {
      "image/png": "[encoded data removed]",
      "text/plain": [
       "<PIL.Image.Image image mode=RGB size=424x240 at 0x7F28370080>"
      ]
     },
     "metadata": {},
     "output_type": "display_data"
    }
   ],
   "source": [
    "display(Image.fromarray(img_processed))\n"
   ]
  },
  {
   "cell_type": "code",
   "execution_count": 24,
   "metadata": {},
   "outputs": [
    {
     "data": {
      "text/plain": [
       "True"
      ]
     },
     "execution_count": 24,
     "metadata": {},
     "output_type": "execute_result"
    }
   ],
   "source": [
    "cv2.imwrite(\"final_proc.png\", img_processed)"
   ]
  },
  {
   "cell_type": "code",
   "execution_count": null,
   "metadata": {},
   "outputs": [],
   "source": []
  }
 ],
 "metadata": {
  "kernelspec": {
   "display_name": "Python 3",
   "language": "python",
   "name": "python3"
  },
  "language_info": {
   "codemirror_mode": {
    "name": "ipython",
    "version": 3
   },
   "file_extension": ".py",
   "mimetype": "text/x-python",
   "name": "python",
   "nbconvert_exporter": "python",
   "pygments_lexer": "ipython3",
   "version": "3.6.4"
  }
 },
 "nbformat": 4,
 "nbformat_minor": 2
}
